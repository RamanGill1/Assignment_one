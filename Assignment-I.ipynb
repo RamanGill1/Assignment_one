{
 "cells": [
  {
   "cell_type": "code",
   "execution_count": 1,
   "id": "fa1d8970",
   "metadata": {},
   "outputs": [
    {
     "name": "stdout",
     "output_type": "stream",
     "text": [
      " The number 25 is not even and not Prime\n",
      "The number 36 is even\n",
      "The number 31 is prime\n",
      "The number 17 is prime\n",
      "The number 61 is prime\n",
      "The number 19 is prime\n",
      "The number 58 is even\n",
      " The number 39 is not even and not Prime\n",
      "The number 67 is prime\n",
      " The number 81 is not even and not Prime\n",
      "{'Even': [36, 58], 'Prime': [31, 17, 61, 19, 67]}\n"
     ]
    }
   ],
   "source": [
    "l=[25,36,31,17,61,19,58,39,67,81]\n",
    "even=list()\n",
    "prime=list()\n",
    "for i in range (0,10):\n",
    "    if l[i]%2==0:\n",
    "        print(\"The number {} is even\".format(l[i]))\n",
    "        even.append(l[i])\n",
    "    else:\n",
    "        for divisor in range (2,l[i]):\n",
    "            if l[i]% divisor==0:\n",
    "                print(\" The number {} is not even and not Prime\".format(l[i]))\n",
    "                break\n",
    "            if divisor==(l[i]-1):\n",
    "                print(\"The number {} is prime\".format(l[i]))\n",
    "                prime.append(l[i])\n",
    "d={\"Even\":even,\"Prime\":prime}\n",
    "print(d)"
   ]
  },
  {
   "cell_type": "code",
   "execution_count": null,
   "id": "88e97166",
   "metadata": {},
   "outputs": [],
   "source": []
  }
 ],
 "metadata": {
  "kernelspec": {
   "display_name": "Python 3 (ipykernel)",
   "language": "python",
   "name": "python3"
  },
  "language_info": {
   "codemirror_mode": {
    "name": "ipython",
    "version": 3
   },
   "file_extension": ".py",
   "mimetype": "text/x-python",
   "name": "python",
   "nbconvert_exporter": "python",
   "pygments_lexer": "ipython3",
   "version": "3.9.12"
  }
 },
 "nbformat": 4,
 "nbformat_minor": 5
}
